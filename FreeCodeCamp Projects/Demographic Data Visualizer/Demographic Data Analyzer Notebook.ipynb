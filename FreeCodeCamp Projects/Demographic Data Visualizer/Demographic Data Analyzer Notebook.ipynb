{
 "cells": [
  {
   "cell_type": "code",
   "execution_count": 1,
   "id": "d04130bd",
   "metadata": {},
   "outputs": [
    {
     "data": {
      "text/html": [
       "<div>\n",
       "<style scoped>\n",
       "    .dataframe tbody tr th:only-of-type {\n",
       "        vertical-align: middle;\n",
       "    }\n",
       "\n",
       "    .dataframe tbody tr th {\n",
       "        vertical-align: top;\n",
       "    }\n",
       "\n",
       "    .dataframe thead th {\n",
       "        text-align: right;\n",
       "    }\n",
       "</style>\n",
       "<table border=\"1\" class=\"dataframe\">\n",
       "  <thead>\n",
       "    <tr style=\"text-align: right;\">\n",
       "      <th></th>\n",
       "      <th>age</th>\n",
       "      <th>workclass</th>\n",
       "      <th>fnlwgt</th>\n",
       "      <th>education</th>\n",
       "      <th>education-num</th>\n",
       "      <th>marital-status</th>\n",
       "      <th>occupation</th>\n",
       "      <th>relationship</th>\n",
       "      <th>race</th>\n",
       "      <th>sex</th>\n",
       "      <th>capital-gain</th>\n",
       "      <th>capital-loss</th>\n",
       "      <th>hours-per-week</th>\n",
       "      <th>native-country</th>\n",
       "      <th>salary</th>\n",
       "    </tr>\n",
       "  </thead>\n",
       "  <tbody>\n",
       "    <tr>\n",
       "      <th>0</th>\n",
       "      <td>39</td>\n",
       "      <td>State-gov</td>\n",
       "      <td>77516</td>\n",
       "      <td>Bachelors</td>\n",
       "      <td>13</td>\n",
       "      <td>Never-married</td>\n",
       "      <td>Adm-clerical</td>\n",
       "      <td>Not-in-family</td>\n",
       "      <td>White</td>\n",
       "      <td>Male</td>\n",
       "      <td>2174</td>\n",
       "      <td>0</td>\n",
       "      <td>40</td>\n",
       "      <td>United-States</td>\n",
       "      <td>&lt;=50K</td>\n",
       "    </tr>\n",
       "    <tr>\n",
       "      <th>1</th>\n",
       "      <td>50</td>\n",
       "      <td>Self-emp-not-inc</td>\n",
       "      <td>83311</td>\n",
       "      <td>Bachelors</td>\n",
       "      <td>13</td>\n",
       "      <td>Married-civ-spouse</td>\n",
       "      <td>Exec-managerial</td>\n",
       "      <td>Husband</td>\n",
       "      <td>White</td>\n",
       "      <td>Male</td>\n",
       "      <td>0</td>\n",
       "      <td>0</td>\n",
       "      <td>13</td>\n",
       "      <td>United-States</td>\n",
       "      <td>&lt;=50K</td>\n",
       "    </tr>\n",
       "    <tr>\n",
       "      <th>2</th>\n",
       "      <td>38</td>\n",
       "      <td>Private</td>\n",
       "      <td>215646</td>\n",
       "      <td>HS-grad</td>\n",
       "      <td>9</td>\n",
       "      <td>Divorced</td>\n",
       "      <td>Handlers-cleaners</td>\n",
       "      <td>Not-in-family</td>\n",
       "      <td>White</td>\n",
       "      <td>Male</td>\n",
       "      <td>0</td>\n",
       "      <td>0</td>\n",
       "      <td>40</td>\n",
       "      <td>United-States</td>\n",
       "      <td>&lt;=50K</td>\n",
       "    </tr>\n",
       "    <tr>\n",
       "      <th>3</th>\n",
       "      <td>53</td>\n",
       "      <td>Private</td>\n",
       "      <td>234721</td>\n",
       "      <td>11th</td>\n",
       "      <td>7</td>\n",
       "      <td>Married-civ-spouse</td>\n",
       "      <td>Handlers-cleaners</td>\n",
       "      <td>Husband</td>\n",
       "      <td>Black</td>\n",
       "      <td>Male</td>\n",
       "      <td>0</td>\n",
       "      <td>0</td>\n",
       "      <td>40</td>\n",
       "      <td>United-States</td>\n",
       "      <td>&lt;=50K</td>\n",
       "    </tr>\n",
       "    <tr>\n",
       "      <th>4</th>\n",
       "      <td>28</td>\n",
       "      <td>Private</td>\n",
       "      <td>338409</td>\n",
       "      <td>Bachelors</td>\n",
       "      <td>13</td>\n",
       "      <td>Married-civ-spouse</td>\n",
       "      <td>Prof-specialty</td>\n",
       "      <td>Wife</td>\n",
       "      <td>Black</td>\n",
       "      <td>Female</td>\n",
       "      <td>0</td>\n",
       "      <td>0</td>\n",
       "      <td>40</td>\n",
       "      <td>Cuba</td>\n",
       "      <td>&lt;=50K</td>\n",
       "    </tr>\n",
       "  </tbody>\n",
       "</table>\n",
       "</div>"
      ],
      "text/plain": [
       "   age         workclass  fnlwgt  education  education-num  \\\n",
       "0   39         State-gov   77516  Bachelors             13   \n",
       "1   50  Self-emp-not-inc   83311  Bachelors             13   \n",
       "2   38           Private  215646    HS-grad              9   \n",
       "3   53           Private  234721       11th              7   \n",
       "4   28           Private  338409  Bachelors             13   \n",
       "\n",
       "       marital-status         occupation   relationship   race     sex  \\\n",
       "0       Never-married       Adm-clerical  Not-in-family  White    Male   \n",
       "1  Married-civ-spouse    Exec-managerial        Husband  White    Male   \n",
       "2            Divorced  Handlers-cleaners  Not-in-family  White    Male   \n",
       "3  Married-civ-spouse  Handlers-cleaners        Husband  Black    Male   \n",
       "4  Married-civ-spouse     Prof-specialty           Wife  Black  Female   \n",
       "\n",
       "   capital-gain  capital-loss  hours-per-week native-country salary  \n",
       "0          2174             0              40  United-States  <=50K  \n",
       "1             0             0              13  United-States  <=50K  \n",
       "2             0             0              40  United-States  <=50K  \n",
       "3             0             0              40  United-States  <=50K  \n",
       "4             0             0              40           Cuba  <=50K  "
      ]
     },
     "execution_count": 1,
     "metadata": {},
     "output_type": "execute_result"
    }
   ],
   "source": [
    "#Python Data Analysis Project : \n",
    "\n",
    "#Demographic Data Analyzer\n",
    "\n",
    "#Importing our labraries\n",
    "\n",
    "import pandas as pd\n",
    "\n",
    "df = pd.read_csv(\"C:/Users/Sicelo/Documents/FreeCodeCamp Projects/Demographic Data Analyser/adult.data.csv\")\n",
    "\n",
    "#lets view the first few rows of this dataset\n",
    "\n",
    "df.head()\n"
   ]
  },
  {
   "cell_type": "code",
   "execution_count": 3,
   "id": "baabe088",
   "metadata": {},
   "outputs": [
    {
     "data": {
      "text/plain": [
       "<bound method DataFrame.info of        age         workclass  fnlwgt   education  education-num  \\\n",
       "0       39         State-gov   77516   Bachelors             13   \n",
       "1       50  Self-emp-not-inc   83311   Bachelors             13   \n",
       "2       38           Private  215646     HS-grad              9   \n",
       "3       53           Private  234721        11th              7   \n",
       "4       28           Private  338409   Bachelors             13   \n",
       "...    ...               ...     ...         ...            ...   \n",
       "32556   27           Private  257302  Assoc-acdm             12   \n",
       "32557   40           Private  154374     HS-grad              9   \n",
       "32558   58           Private  151910     HS-grad              9   \n",
       "32559   22           Private  201490     HS-grad              9   \n",
       "32560   52      Self-emp-inc  287927     HS-grad              9   \n",
       "\n",
       "           marital-status         occupation   relationship   race     sex  \\\n",
       "0           Never-married       Adm-clerical  Not-in-family  White    Male   \n",
       "1      Married-civ-spouse    Exec-managerial        Husband  White    Male   \n",
       "2                Divorced  Handlers-cleaners  Not-in-family  White    Male   \n",
       "3      Married-civ-spouse  Handlers-cleaners        Husband  Black    Male   \n",
       "4      Married-civ-spouse     Prof-specialty           Wife  Black  Female   \n",
       "...                   ...                ...            ...    ...     ...   \n",
       "32556  Married-civ-spouse       Tech-support           Wife  White  Female   \n",
       "32557  Married-civ-spouse  Machine-op-inspct        Husband  White    Male   \n",
       "32558             Widowed       Adm-clerical      Unmarried  White  Female   \n",
       "32559       Never-married       Adm-clerical      Own-child  White    Male   \n",
       "32560  Married-civ-spouse    Exec-managerial           Wife  White  Female   \n",
       "\n",
       "       capital-gain  capital-loss  hours-per-week native-country salary  \n",
       "0              2174             0              40  United-States  <=50K  \n",
       "1                 0             0              13  United-States  <=50K  \n",
       "2                 0             0              40  United-States  <=50K  \n",
       "3                 0             0              40  United-States  <=50K  \n",
       "4                 0             0              40           Cuba  <=50K  \n",
       "...             ...           ...             ...            ...    ...  \n",
       "32556             0             0              38  United-States  <=50K  \n",
       "32557             0             0              40  United-States   >50K  \n",
       "32558             0             0              40  United-States  <=50K  \n",
       "32559             0             0              20  United-States  <=50K  \n",
       "32560         15024             0              40  United-States   >50K  \n",
       "\n",
       "[32561 rows x 15 columns]>"
      ]
     },
     "execution_count": 3,
     "metadata": {},
     "output_type": "execute_result"
    }
   ],
   "source": [
    "df.info"
   ]
  },
  {
   "cell_type": "code",
   "execution_count": 4,
   "id": "c58945e6",
   "metadata": {},
   "outputs": [
    {
     "data": {
      "text/plain": [
       "Index(['age', 'workclass', 'fnlwgt', 'education', 'education-num',\n",
       "       'marital-status', 'occupation', 'relationship', 'race', 'sex',\n",
       "       'capital-gain', 'capital-loss', 'hours-per-week', 'native-country',\n",
       "       'salary'],\n",
       "      dtype='object')"
      ]
     },
     "execution_count": 4,
     "metadata": {},
     "output_type": "execute_result"
    }
   ],
   "source": [
    "#lets observe the columns of our dataset\n",
    "\n",
    "df.columns"
   ]
  },
  {
   "cell_type": "code",
   "execution_count": 3,
   "id": "b3df1142",
   "metadata": {},
   "outputs": [
    {
     "data": {
      "text/plain": [
       "White                 27816\n",
       "Black                  3124\n",
       "Asian-Pac-Islander     1039\n",
       "Amer-Indian-Eskimo      311\n",
       "Other                   271\n",
       "Name: race, dtype: int64"
      ]
     },
     "execution_count": 3,
     "metadata": {},
     "output_type": "execute_result"
    }
   ],
   "source": [
    "#Now lets answer some questions for the project:\n",
    "\n",
    "#How many people of each race are represented in this dataset? \n",
    "#This should be a Pandas series with race names as the index labels. (race column)\n",
    "\n",
    "race_count = df['race'].value_counts()\n",
    "\n",
    "race_count"
   ]
  },
  {
   "cell_type": "code",
   "execution_count": 6,
   "id": "30e9ab12",
   "metadata": {},
   "outputs": [
    {
     "name": "stdout",
     "output_type": "stream",
     "text": [
      "The average age of men : 39.43 \n"
     ]
    }
   ],
   "source": [
    "#What is the average age of men?\n",
    "\n",
    "#we can create a dataframe which only considers males\n",
    "\n",
    "males = df[ df['sex'] == 'Male'] #subsetting males from our dataframe\n",
    "\n",
    "male_age_average = males['age'].mean()\n",
    "\n",
    "print(f\"The average age of men : {round(male_age_average, 2)} \")\n"
   ]
  },
  {
   "cell_type": "code",
   "execution_count": 11,
   "id": "fc0b4b61",
   "metadata": {},
   "outputs": [
    {
     "name": "stdout",
     "output_type": "stream",
     "text": [
      "The total number of people with Bachelors:  5355\n",
      "The total number of people in the dataframe: 32561\n",
      "\n",
      "Percentage of people have a Bachelor's degree:  16.45% \n"
     ]
    }
   ],
   "source": [
    "#Now lets move to the next question\n",
    "\n",
    "#What is the percentage of people that have a Bachelor's degree?\n",
    "\n",
    "people_with_Bachelors = df[ df['education'] == 'Bachelors'].value_counts().sum()\n",
    "print(\"The total number of people with Bachelors: \", people_with_Bachelors)\n",
    "\n",
    "total_number_people = len(df)\n",
    "print(\"The total number of people in the dataframe:\", total_number_people)\n",
    "\n",
    "Barchelor_percentage = (people_with_Bachelors/  total_number_people )*100\n",
    "\n",
    "print(f\"\\nPercentage of people have a Bachelor's degree:  {round(Barchelor_percentage, 2)}% \")"
   ]
  },
  {
   "cell_type": "code",
   "execution_count": 19,
   "id": "54f23fcb",
   "metadata": {},
   "outputs": [
    {
     "name": "stdout",
     "output_type": "stream",
     "text": [
      "\n",
      "Percentage of people have a Bachelor's degree:  16.45% \n"
     ]
    }
   ],
   "source": [
    "#Alternatively we can use the length function overall\n",
    "\n",
    "number_of_bachelors = len(df[ df[\"education\"] == 'Bachelors'])\n",
    "number_of_people = len(df)\n",
    "\n",
    "  \n",
    "percentage_bachelors = round(number_of_bachelors/number_of_people*100, 2)\n",
    "\n",
    "print(f\"\\nPercentage of people that have a Bachelor's degree:  {round(percentage_bachelors, 2)}% \")"
   ]
  },
  {
   "cell_type": "code",
   "execution_count": 23,
   "id": "59adf1bf",
   "metadata": {},
   "outputs": [
    {
     "name": "stdout",
     "output_type": "stream",
     "text": [
      "The percentage of people with advanced education that are earning more than 5OK : 46.54%\n"
     ]
    }
   ],
   "source": [
    "#What percentage of people with advanced education (Bachelors,Masters, or Doctorate) make more than 50K?\n",
    "\n",
    "#we are asked to determine i.e a portion of people from those who have advanced education who earn more than 50K\n",
    "\n",
    "#Since the salary variable is a format that doesnt allow us to perform computations \n",
    "#We convert it to another data type\n",
    "\n",
    "df['salary'] = df['salary'].astype('string')\n",
    "\n",
    "higher_education = df[ df['education'].isin(['Bachelors','Masters','Doctorate' ])]\n",
    "\n",
    "higher_education_rich=round(len(higher_education[higher_education['salary']=='>50K'])/len(higher_education)*100,2)\n",
    "\n",
    "print(f\"The percentage of people with advanced education that are earning more than 5OK : {higher_education_rich}%\")\n",
    "\n",
    "                                    "
   ]
  },
  {
   "cell_type": "code",
   "execution_count": 24,
   "id": "2d7a9ac5",
   "metadata": {},
   "outputs": [
    {
     "name": "stdout",
     "output_type": "stream",
     "text": [
      "The percentage of people with advanced education that are earning more than 5OK : 17.37%\n"
     ]
    }
   ],
   "source": [
    "#What percentage of people without advanced education make more than 50K?\n",
    "#i.e a portion of people from those who do not have advanced education who earn more than 50K\n",
    "\n",
    "lower_education = df[ ~df['education'].isin(['Bachelors','Masters','Doctorate' ])]\n",
    "\n",
    "lower_education_rich = round(len(lower_education[lower_education['salary'] == '>50K'])/len(lower_education)*100, 2)\n",
    "    \n",
    "print(f\"The percentage of people with advanced education that are earning more than 5OK : {lower_education_rich}%\") \n",
    "\n"
   ]
  },
  {
   "cell_type": "code",
   "execution_count": 26,
   "id": "bd2e8bfe",
   "metadata": {},
   "outputs": [
    {
     "name": "stdout",
     "output_type": "stream",
     "text": [
      "minimum number of hours a person works per week:  1\n"
     ]
    }
   ],
   "source": [
    "#What is the minimum number of hours a person works per week?\n",
    "\n",
    "min_hours = df['hours-per-week'].min()\n",
    "\n",
    "print(\"minimum number of hours a person works per week: \", min_hours)"
   ]
  },
  {
   "cell_type": "code",
   "execution_count": 27,
   "id": "321c2a29",
   "metadata": {},
   "outputs": [
    {
     "data": {
      "text/plain": [
       "Int64Index([  189,  1036,  1262,  5590,  5632,  5766,  5808,  8447,  9147,\n",
       "            11451, 19337, 19750, 20072, 20909, 22960, 23536, 24284, 25078,\n",
       "            29752, 32525],\n",
       "           dtype='int64')"
      ]
     },
     "execution_count": 27,
     "metadata": {},
     "output_type": "execute_result"
    }
   ],
   "source": [
    "#An additional question is that who is that person or those people?\n",
    "#Retrieve a list of people who work those hours\n",
    "\n",
    "df[ df['hours-per-week'] == min_hours ].index "
   ]
  },
  {
   "cell_type": "code",
   "execution_count": 30,
   "id": "ba232fd5",
   "metadata": {},
   "outputs": [
    {
     "name": "stdout",
     "output_type": "stream",
     "text": [
      "The number people who work the minimum number of hoursper week have a salary of more than 50K:   2\n",
      "\n",
      "The percentage of the people who work the minimum number of hoursper week have a salary of more than 50K: 10.0%\n"
     ]
    }
   ],
   "source": [
    "#What percentage of the people who work the minimum number of hoursper week have a salary of more than 50K?\n",
    "#Since we know that the people who min hours per week work is one hour\n",
    "\n",
    "min_hours_people = len(df[  df['hours-per-week'] == min_hours])\n",
    "min_hours_rich = len(df[  (df['hours-per-week'] == min_hours)  &  (df['salary'] == \">50K\")  ])\n",
    "\n",
    "\n",
    "print(\"The number people who work the minimum number of hoursper week have a salary of more than 50K:  \", min_hours_rich)\n",
    "\n",
    "percent = round(min_hours_rich/min_hours_people*100, 1)\n",
    "\n",
    "print(f\"\\nThe percentage of the people who work the minimum number of hoursper week have a salary of more than 50K: {percent}%\" )"
   ]
  },
  {
   "cell_type": "code",
   "execution_count": 66,
   "id": "dd72d73a",
   "metadata": {},
   "outputs": [
    {
     "data": {
      "text/plain": [
       "Int64Index([189, 20072], dtype='int64')"
      ]
     },
     "execution_count": 66,
     "metadata": {},
     "output_type": "execute_result"
    }
   ],
   "source": [
    "df[  (df['hours-per-week'] == 1)  &  (df['salary'] == \">50K\")  ].index  #again we may ask ourselves who are those people"
   ]
  },
  {
   "cell_type": "code",
   "execution_count": 61,
   "id": "09b556ae",
   "metadata": {},
   "outputs": [
    {
     "name": "stdout",
     "output_type": "stream",
     "text": [
      "highest_earning_country: Iran\n",
      "highest_earning_country_percentage: 41.9\n"
     ]
    }
   ],
   "source": [
    "#What country has the highest percentage of people that earn more than 50K and what is that percentage?\n",
    "#we must calculate based on the native countries individual populations not the entire dataframe population\n",
    "\n",
    "country_count = df['native-country'].value_counts() \n",
    "country_count_rich = df[ df['salary']== \">50K\"]['native-country'].value_counts()\n",
    "  \n",
    "highest_earning_country =  (country_count_rich/country_count*100).idxmax()\n",
    "highest_earning_country_percentage = (country_count_rich/country_count*100).max()\n",
    "\n",
    "print('highest_earning_country:', highest_earning_country)\n",
    "print('highest_earning_country_percentage:', round(highest_earning_country_percentage,1))"
   ]
  },
  {
   "cell_type": "code",
   "execution_count": 46,
   "id": "19177441",
   "metadata": {},
   "outputs": [
    {
     "data": {
      "text/plain": [
       "'Prof-specialty'"
      ]
     },
     "execution_count": 46,
     "metadata": {},
     "output_type": "execute_result"
    }
   ],
   "source": [
    "#What is the popular occupation in India that is also the highest earning.\n",
    "new_df = df[ (df['salary'] == \">50K\") & (df[\"native-country\"] == \"India\")]\n",
    "\n",
    "popular_occupation = new_df['occupation'].value_counts().idxmax()\n",
    "\n",
    "popular_occupation"
   ]
  },
  {
   "cell_type": "code",
   "execution_count": null,
   "id": "e8cfd16b",
   "metadata": {},
   "outputs": [],
   "source": []
  }
 ],
 "metadata": {
  "kernelspec": {
   "display_name": "Python 3 (ipykernel)",
   "language": "python",
   "name": "python3"
  },
  "language_info": {
   "codemirror_mode": {
    "name": "ipython",
    "version": 3
   },
   "file_extension": ".py",
   "mimetype": "text/x-python",
   "name": "python",
   "nbconvert_exporter": "python",
   "pygments_lexer": "ipython3",
   "version": "3.9.12"
  }
 },
 "nbformat": 4,
 "nbformat_minor": 5
}
